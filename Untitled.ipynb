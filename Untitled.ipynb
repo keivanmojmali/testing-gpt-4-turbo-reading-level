{
 "cells": [
  {
   "cell_type": "markdown",
   "id": "dad8e7b6-d453-47be-a25b-2ad51a1748a8",
   "metadata": {},
   "source": [
    "# Testing GPT-4-Turbo generated text reading level using Flesch-Kincaid readability test\n",
    "\n",
    "Currently in our edtech product we use two seperate text generators for passages. One that generates a passage to use in creating resources and another levels any text input. I would like to use different measurements to check how close is the generated text by gpt-4-turbo.\n",
    "\n",
    "Approach:\n",
    "1. Gather initial data(Generated texts and their structure)\n",
    "2. Score using Flesch-Kincaid method\n",
    "3. Convert score to mean of grade range\n",
    "4. Compare where the model thinks it was outputting to where it actually did according to reability score\n",
    "5. Compare if the texts that was leveled after generation improved in its score\n"
   ]
  },
  {
   "cell_type": "markdown",
   "id": "e27ff86c-706e-48f7-9a84-7426f3652a9e",
   "metadata": {},
   "source": [
    "# Data\n",
    "\n",
    "The data was created in 3 ways. \n",
    "1. The leveled text guidelines were pulled from Planning Period's text leveler database\n",
    "2. The Generated text and leveled Text were API calls to openAI\n",
    "\n",
    "Characteristics of each call:\n",
    "- Each model calls has a system prompt message and a final prompt message\n",
    "- The prompts are the only information that the call gets, we do not use RAG and any other context.\n",
    "Steps:\n",
    "- The first call generates text that is either fiction or nonfiction. It is given specific directions that help it tailor the texts for generating passages for k-12 education.\n",
    "- The second call is given directions to level the passage that was created in the first call. The idea is that if it is not focusing on creating a passage, it can focus on leveling to proper reading level\n",
    "\n"
   ]
  },
  {
   "cell_type": "markdown",
   "id": "cf38fe21-b2bf-46e4-8964-2611a41fd315",
   "metadata": {},
   "source": [
    "# Features \n",
    "\n",
    "- __Type of Passage__\n",
    "- Original Grade\n",
    "- Leveled Grade\n",
    "- __Topic__\n",
    "- Original Text\n",
    "- Leveled Text\n",
    "- Original Word Count\n",
    "- Original Sentence Structure\n",
    "- Original Vocabulary\n",
    "- Original Content\n",
    "- Leveled Word Count\n",
    "- Leveled Sentence Structure\n",
    "- Leveled Vocabulary\n",
    "- Leveled Content\n",
    "- Original Text Flesch Kincaid Readability Score\n",
    "- Leveled Text Flesch Kincaid Readability Score\n",
    "\n",
    "Most of these features are for reference and were __not__ given to the model in the api call. The ones that are __bolded__ are the only ones that were given as context in the api call\n"
   ]
  },
  {
   "cell_type": "code",
   "execution_count": null,
   "id": "ab466f1d-8692-4f08-8fb7-8bca4239dcb9",
   "metadata": {},
   "outputs": [],
   "source": [
    "# What is Flesch-Kincaid \n",
    "\n",
    "The Flesch–Kincaid readability tests are readability tests designed to indicate how difficult a passage in English is to understand. There are two tests: the Flesch Reading-Ease, and the Flesch–Kincaid Grade Level. Although they use the same core measures (word length and sentence length), they have different weighting factors.\n",
    "\n",
    "The results of the two tests correlate approximately inversely: a text with a comparatively high score on the Reading Ease test should have a lower score on the Grade-Level test. Rudolf Flesch devised the Reading Ease evaluation; somewhat later, he and J. Peter Kincaid developed the Grade Level evaluation for the United States Navy."
   ]
  }
 ],
 "metadata": {
  "kernelspec": {
   "display_name": "Python 3 (ipykernel)",
   "language": "python",
   "name": "python3"
  },
  "language_info": {
   "codemirror_mode": {
    "name": "ipython",
    "version": 3
   },
   "file_extension": ".py",
   "mimetype": "text/x-python",
   "name": "python",
   "nbconvert_exporter": "python",
   "pygments_lexer": "ipython3",
   "version": "3.12.3"
  }
 },
 "nbformat": 4,
 "nbformat_minor": 5
}
